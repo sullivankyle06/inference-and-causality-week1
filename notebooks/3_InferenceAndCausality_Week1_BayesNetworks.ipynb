{
 "cells": [
  {
   "cell_type": "markdown",
   "id": "934b43de",
   "metadata": {},
   "source": [
    "## Bayesian Networks\n",
    "\n",
    "Now we’ll play with a tiny Bayesian Network (BN) — **Rain → Sprinkler → WetGrass** — and do **belief updates** by hand, using simple Python.\n",
    "No external packages needed. Change the numbers, re-run the cells, watch beliefs shift. \n",
    "\n",
    "**Network:**\n",
    "\n",
    "```\n",
    "Rain ─▶ Sprinkler ─▶ WetGrass\n",
    "   └──────────────────────▶\n",
    "```\n",
    "\n",
    "- `Rain ∈ {0,1}`\n",
    "- `Sprinkler ∈ {0,1}`\n",
    "- `WetGrass ∈ {0,1}`\n",
    "\n",
    "We’ll use **tables** (priors, likelihoods) and **normalization** — just like the previous notebook — but for *multiple variables*.\n"
   ]
  },
  {
   "cell_type": "markdown",
   "id": "0f958e66",
   "metadata": {},
   "source": [
    "\n",
    "## Reference diagram (fixed Conditional Probability Table (CPT)s)\n",
    "\n",
    "The following image taken from chegg.com matches a common **Rain–Sprinkler–GrassWet** example.  \n",
    "We'll also provide a code cell to **set the CPTs to these exact numbers** so the notebook's calculations align with the figure.\n",
    "\n",
    "![BN reference](images/chegg_BN.png)\n"
   ]
  },
  {
   "cell_type": "code",
   "execution_count": 3,
   "id": "74195fa0",
   "metadata": {},
   "outputs": [],
   "source": [
    "\n",
    "# Set CPTs to match the reference image\n",
    "\n",
    "cpts = {\n",
    "    'Rain': {0: 0.8, 1: 0.2},  # P(R=F)=0.8, P(R=T)=0.2\n",
    "    # Sprinkler | Rain  (S, R): probabilities for S state given R\n",
    "    # From table under \"SPRINKLER\": when R=F -> [T:0.4, F:0.6]; when R=T -> [T:0.01, F:0.99]\n",
    "    'Sprinkler': {\n",
    "        #(S,R): P(S|R)\n",
    "        (0,0): 0.6,  # P(S=0|R=0)\n",
    "        (1,0): 0.4,  # P(S=1|R=0)\n",
    "        (0,1): 0.99, # P(S=0|R=1)\n",
    "        (1,1): 0.01, # P(S=1|R=1)\n",
    "    },\n",
    "    # GrassWet | Sprinkler, Rain  (W, S, R)\n",
    "    # Table (columns T,F for W; rows by S,R in order (F,F), (F,T), (T,F), (T,T)):\n",
    "    # (F,F): T 0.0, F 1.0\n",
    "    # (F,T): T 0.8, F 0.2\n",
    "    # (T,F): T 0.9, F 0.1\n",
    "    # (T,T): T 0.99, F 0.01\n",
    "    'WetGrass': {\n",
    "        #(W,S,R):\n",
    "        (1,0,0): 0.0,  (0,0,0): 1.0,\n",
    "        (1,0,1): 0.8,  (0,0,1): 0.2,\n",
    "        (1,1,0): 0.9,  (0,1,0): 0.1,\n",
    "        (1,1,1): 0.99, (0,1,1): 0.01,\n",
    "    }\n",
    "}"
   ]
  },
  {
   "cell_type": "markdown",
   "id": "a77ca9d3",
   "metadata": {},
   "source": [
    "\n",
    "## Exact inference by enumeration\n",
    "We'll use tiny tables and normalization.\n"
   ]
  },
  {
   "cell_type": "code",
   "execution_count": 4,
   "id": "d08bc92e",
   "metadata": {},
   "outputs": [],
   "source": [
    "\n",
    "from itertools import product\n",
    "\n",
    "def normalize(pdict):\n",
    "    z = sum(pdict.values())\n",
    "    if z == 0:\n",
    "        raise ValueError(\"All probabilities are zero; check your CPTs/evidence.\")\n",
    "    return {k: v / z for k, v in pdict.items()}\n",
    "\n",
    "def all_assignments(vars_list):\n",
    "    for bits in product([0,1], repeat=len(vars_list)):\n",
    "        yield dict(zip(vars_list, bits))\n",
    "\n",
    "def P_joint(assign, cpts):\n",
    "    r = assign['Rain']\n",
    "    s = assign['Sprinkler']\n",
    "    w = assign['WetGrass']\n",
    "    p = 1.0\n",
    "    p *= cpts['Rain'][r]\n",
    "    p *= cpts['Sprinkler'][(s, r)]\n",
    "    p *= cpts['WetGrass'][(w, s, r)]\n",
    "    return p\n",
    "\n",
    "def query_posterior(query_var, evidence, cpts):\n",
    "    vars_all = ['Rain','Sprinkler','WetGrass']\n",
    "    hidden = [v for v in vars_all if v != query_var and v not in evidence]\n",
    "    post_unnorm = {}\n",
    "    for q_val in [0,1]:\n",
    "        total = 0.0\n",
    "        for h_assign in all_assignments(hidden):\n",
    "            assign = {query_var: q_val, **evidence, **h_assign}\n",
    "            total += P_joint(assign, cpts)\n",
    "        post_unnorm[q_val] = total\n",
    "    return normalize(post_unnorm)\n"
   ]
  },
  {
   "cell_type": "markdown",
   "id": "c550c547",
   "metadata": {},
   "source": [
    "\n",
    "## Define the BN (change these numbers!)\n",
    "\n",
    "- `P(Rain)`  \n",
    "- `P(Sprinkler | Rain)`  \n",
    "- `P(WetGrass | Sprinkler, Rain)`  \n"
   ]
  },
  {
   "cell_type": "code",
   "execution_count": 5,
   "id": "bee41c68",
   "metadata": {},
   "outputs": [
    {
     "data": {
      "text/plain": [
       "'CPTs look valid.'"
      ]
     },
     "execution_count": 5,
     "metadata": {},
     "output_type": "execute_result"
    }
   ],
   "source": [
    "\n",
    "# # --- CPTs (you can uncomment and edit these to play if you wish!) ---\n",
    "# cpts = {\n",
    "#     # Prior for Rain\n",
    "#     'Rain': {0: 0.7, 1: 0.3},\n",
    "#     # Sprinkler depends on Rain  (S, R)\n",
    "#     'Sprinkler': {\n",
    "#         (0,0): 0.2, (1,0): 0.8,\n",
    "#         (0,1): 0.7, (1,1): 0.3,\n",
    "#     },\n",
    "#     # WetGrass depends on Sprinkler and Rain  (W, S, R)\n",
    "#     'WetGrass': {\n",
    "#         (1,1,1): 0.99, (0,1,1): 0.01,\n",
    "#         (1,1,0): 0.90, (0,1,0): 0.10,\n",
    "#         (1,0,1): 0.80, (0,0,1): 0.20,\n",
    "#         (1,0,0): 0.05, (0,0,0): 0.95,\n",
    "#     }\n",
    "# }\n",
    "\n",
    "def check_cpts(cpts):\n",
    "    assert abs(cpts['Rain'][0] + cpts['Rain'][1] - 1.0) < 1e-9\n",
    "    for r in [0,1]:\n",
    "        s0 = cpts['Sprinkler'][(0,r)]\n",
    "        s1 = cpts['Sprinkler'][(1,r)]\n",
    "        assert abs(s0 + s1 - 1.0) < 1e-9\n",
    "    for s in [0,1]:\n",
    "        for r in [0,1]:\n",
    "            w1 = cpts['WetGrass'][(1,s,r)]\n",
    "            w0 = cpts['WetGrass'][(0,s,r)]\n",
    "            assert abs(w0 + w1 - 1.0) < 1e-9\n",
    "    return \"CPTs look valid.\"\n",
    "\n",
    "check_cpts(cpts)\n"
   ]
  },
  {
   "cell_type": "markdown",
   "id": "fe89747e",
   "metadata": {},
   "source": [
    "\n",
    "## Queries\n"
   ]
  },
  {
   "cell_type": "code",
   "execution_count": 6,
   "id": "96d82946",
   "metadata": {},
   "outputs": [
    {
     "name": "stdout",
     "output_type": "stream",
     "text": [
      "P(WetGrass=1) = 0.448\n"
     ]
    }
   ],
   "source": [
    "\n",
    "# P(WetGrass=1)\n",
    "p_wet = 0.0\n",
    "for r in [0,1]:\n",
    "    for s in [0,1]:\n",
    "        p_wet += cpts['Rain'][r] * cpts['Sprinkler'][(s,r)] * cpts['WetGrass'][(1,s,r)]\n",
    "print(f\"P(WetGrass=1) = {p_wet:.3f}\")\n"
   ]
  },
  {
   "cell_type": "code",
   "execution_count": 5,
   "id": "06ca9bd9",
   "metadata": {},
   "outputs": [
    {
     "name": "stdout",
     "output_type": "stream",
     "text": [
      "P(Rain | WetGrass=1) = {0: 0.642, 1: 0.358}\n"
     ]
    }
   ],
   "source": [
    "\n",
    "print(\"P(Rain | WetGrass=1) =\", {k: round(v,3) for k,v in query_posterior('Rain', {'WetGrass':1}, cpts).items()})\n"
   ]
  },
  {
   "cell_type": "code",
   "execution_count": 6,
   "id": "82bf4835",
   "metadata": {},
   "outputs": [
    {
     "name": "stdout",
     "output_type": "stream",
     "text": [
      "P(Sprinkler | WetGrass=1) = {0: 0.353, 1: 0.647}\n"
     ]
    }
   ],
   "source": [
    "print(\"P(Sprinkler | WetGrass=1) =\", {k: round(v,3) for k,v in query_posterior('Sprinkler', {'WetGrass':1}, cpts).items()})"
   ]
  },
  {
   "cell_type": "code",
   "execution_count": 7,
   "id": "028bcf5e",
   "metadata": {},
   "outputs": [
    {
     "name": "stdout",
     "output_type": "stream",
     "text": [
      "P(Rain | WetGrass=1, Sprinkler=0) = {0: 0.0, 1: 1.0}\n"
     ]
    }
   ],
   "source": [
    "print(\"P(Rain | WetGrass=1, Sprinkler=0) =\", {k: round(v,3) for k,v in query_posterior('Rain', {'WetGrass':1,'Sprinkler':0}, cpts).items()})"
   ]
  },
  {
   "cell_type": "markdown",
   "id": "03b3097b",
   "metadata": {},
   "source": [
    "\n",
    "## Mini-Exercises\n",
    "\n",
    "1. **Make rain more common.** Set `P(Rain=1)` to `0.6`. What happens to `P(Rain | WetGrass=1)`?\n",
    "2. **Sprinkler suppression.** Set `P(S=1|R=1)=0.05`. How do the posteriors change?\n",
    "3. **Noisy grass sensor.** Increase `P(W=1|S=0,R=0)` to `0.15`. Does wet grass still indicate rain?\n",
    "4. **Your own story.** Rename variables (e.g., `Cold → Flu → Cough`) and pick plausible CPTs.\n"
   ]
  },
  {
   "cell_type": "code",
   "execution_count": 9,
   "id": "67d70079",
   "metadata": {},
   "outputs": [],
   "source": [
    "cpts = {\n",
    "    'Rain': {0: 0.4, 1: 0.6},  # P(R=F)=0.8, P(R=T)=0.2\n",
    "    # Sprinkler | Rain  (S, R): probabilities for S state given R\n",
    "    # From table under \"SPRINKLER\": when R=F -> [T:0.4, F:0.6]; when R=T -> [T:0.01, F:0.99]\n",
    "    'Sprinkler': {\n",
    "        #(S,R): P(S|R)\n",
    "        (0,0): 0.6,  # P(S=0|R=0)\n",
    "        (1,0): 0.4,  # P(S=1|R=0)\n",
    "        (0,1): 0.99, # P(S=0|R=1)\n",
    "        (1,1): 0.01, # P(S=1|R=1)\n",
    "    },\n",
    "    # GrassWet | Sprinkler, Rain  (W, S, R)\n",
    "    # Table (columns T,F for W; rows by S,R in order (F,F), (F,T), (T,F), (T,T)):\n",
    "    # (F,F): T 0.0, F 1.0\n",
    "    # (F,T): T 0.8, F 0.2\n",
    "    # (T,F): T 0.9, F 0.1\n",
    "    # (T,T): T 0.99, F 0.01\n",
    "    'WetGrass': {\n",
    "        #(W,S,R):\n",
    "        (1,0,0): 0.0,  (0,0,0): 1.0,\n",
    "        (1,0,1): 0.8,  (0,0,1): 0.2,\n",
    "        (1,1,0): 0.9,  (0,1,0): 0.1,\n",
    "        (1,1,1): 0.99, (0,1,1): 0.01,\n",
    "    }\n",
    "}"
   ]
  },
  {
   "cell_type": "code",
   "execution_count": 10,
   "id": "46bb5e4a",
   "metadata": {},
   "outputs": [
    {
     "name": "stdout",
     "output_type": "stream",
     "text": [
      "P(Rain | WetGrass=1) = {0: 0.23, 1: 0.77}\n"
     ]
    }
   ],
   "source": [
    "print(\"P(Rain | WetGrass=1) =\", {k: round(v,3) for k,v in query_posterior('Rain', {'WetGrass':1}, cpts).items()})\n"
   ]
  },
  {
   "cell_type": "code",
   "execution_count": null,
   "id": "37dbfefe",
   "metadata": {},
   "outputs": [],
   "source": [
    "#You can see that once we \n",
    "#change the percentage of the likelihood of rain, \n",
    "#the probability of the \n",
    "#rain being the reason for the wet grass increases"
   ]
  },
  {
   "cell_type": "code",
   "execution_count": 7,
   "id": "5b91dcef",
   "metadata": {},
   "outputs": [],
   "source": [
    "cpts = {\n",
    "    'Rain': {0: 0.8, 1: 0.2},  # P(R=F)=0.8, P(R=T)=0.2\n",
    "    # Sprinkler | Rain  (S, R): probabilities for S state given R\n",
    "    # From table under \"SPRINKLER\": when R=F -> [T:0.4, F:0.6]; when R=T -> [T:0.01, F:0.99]\n",
    "    'Sprinkler': {\n",
    "        #(S,R): P(S|R)\n",
    "        (0,0): 0.6,  # P(S=0|R=0)\n",
    "        (1,0): 0.4,  # P(S=1|R=0)\n",
    "        (0,1): 0.95, # P(S=0|R=1)\n",
    "        (1,1): 0.05, # P(S=1|R=1)\n",
    "    },\n",
    "    # GrassWet | Sprinkler, Rain  (W, S, R)\n",
    "    # Table (columns T,F for W; rows by S,R in order (F,F), (F,T), (T,F), (T,T)):\n",
    "    # (F,F): T 0.0, F 1.0\n",
    "    # (F,T): T 0.8, F 0.2\n",
    "    # (T,F): T 0.9, F 0.1\n",
    "    # (T,T): T 0.99, F 0.01\n",
    "    'WetGrass': {\n",
    "        #(W,S,R):\n",
    "        (1,0,0): 0.0,  (0,0,0): 1.0,\n",
    "        (1,0,1): 0.8,  (0,0,1): 0.2,\n",
    "        (1,1,0): 0.9,  (0,1,0): 0.1,\n",
    "        (1,1,1): 0.95, (0,1,1): 0.05,\n",
    "    }\n",
    "}"
   ]
  },
  {
   "cell_type": "code",
   "execution_count": 8,
   "id": "9dd69dfb",
   "metadata": {},
   "outputs": [
    {
     "name": "stdout",
     "output_type": "stream",
     "text": [
      "P(Rain | WetGrass=1) = {0: 0.641, 1: 0.359}\n"
     ]
    }
   ],
   "source": [
    "print(\"P(Rain | WetGrass=1) =\", {k: round(v,3) for k,v in query_posterior('Rain', {'WetGrass':1}, cpts).items()})\n"
   ]
  },
  {
   "cell_type": "code",
   "execution_count": 9,
   "id": "8ba12010",
   "metadata": {},
   "outputs": [
    {
     "name": "stdout",
     "output_type": "stream",
     "text": [
      "P(Sprinkler | WetGrass=1) = {0: 0.338, 1: 0.662}\n"
     ]
    }
   ],
   "source": [
    "print(\"P(Sprinkler | WetGrass=1) =\", {k: round(v,3) for k,v in query_posterior('Sprinkler', {'WetGrass':1}, cpts).items()})"
   ]
  },
  {
   "cell_type": "code",
   "execution_count": 10,
   "id": "fe541a9e",
   "metadata": {},
   "outputs": [
    {
     "name": "stdout",
     "output_type": "stream",
     "text": [
      "P(Rain | WetGrass=1, Sprinkler=0) = {0: 0.0, 1: 1.0}\n"
     ]
    }
   ],
   "source": [
    "print(\"P(Rain | WetGrass=1, Sprinkler=0) =\", {k: round(v,3) for k,v in query_posterior('Rain', {'WetGrass':1,'Sprinkler':0}, cpts).items()})"
   ]
  },
  {
   "cell_type": "code",
   "execution_count": null,
   "id": "fb5b949f",
   "metadata": {},
   "outputs": [],
   "source": [
    "#As expected, a very subtle change to the sprinkler\n",
    "#being the reason for wet grass given that rain has transpired\n",
    "#does not alter the posterior outcomes in a large manner"
   ]
  },
  {
   "cell_type": "markdown",
   "id": "284f3a7b",
   "metadata": {},
   "source": [
    "\n",
    "## (Optional) Build a tiny custom BN (≤ 4 binary variables)\n"
   ]
  },
  {
   "cell_type": "code",
   "execution_count": 12,
   "id": "41ac3da0",
   "metadata": {},
   "outputs": [
    {
     "data": {
      "text/plain": [
       "{0: 0.6652779585991407, 1: 0.33472204140085926}"
      ]
     },
     "execution_count": 12,
     "metadata": {},
     "output_type": "execute_result"
    }
   ],
   "source": [
    "\n",
    "def P_joint_generic(assign, vars_topo, parents, cpts):\n",
    "    p = 1.0\n",
    "    for v in vars_topo:\n",
    "        pa = parents[v]\n",
    "        if len(pa) == 0:\n",
    "            p *= cpts[v][assign[v]]\n",
    "        else:\n",
    "            key = (assign[v],) + tuple(assign[u] for u in pa)\n",
    "            p *= cpts[v][key]\n",
    "    return p\n",
    "\n",
    "def query_generic(query_var, evidence, vars_topo, parents, cpts):\n",
    "    from itertools import product\n",
    "    hidden = [v for v in vars_topo if v != query_var and v not in evidence]\n",
    "    post = {}\n",
    "    for q in [0,1]:\n",
    "        total = 0.0\n",
    "        for bits in product([0,1], repeat=len(hidden)):\n",
    "            h = dict(zip(hidden, bits))\n",
    "            a = {query_var:q, **evidence, **h}\n",
    "            total += P_joint_generic(a, vars_topo, parents, cpts)\n",
    "        post[q] = total\n",
    "    # normalize\n",
    "    z = sum(post.values())\n",
    "    return {k: v / z for k, v in post.items()}\n",
    "\n",
    "# Example reuse\n",
    "vars_topo = ['Rain','Sprinkler','WetGrass']\n",
    "parents = {'Rain':[], 'Sprinkler':['Rain'], 'WetGrass':['Sprinkler','Rain']}\n",
    "cpts_generic = {\n",
    "    'Rain': {0:0.7, 1:0.3},\n",
    "    'Sprinkler': {(0,0):0.2,(1,0):0.8,(0,1):0.7,(1,1):0.3},\n",
    "    'WetGrass':{\n",
    "        (1,1,1):0.99,(0,1,1):0.01,(1,1,0):0.90,(0,1,0):0.10,\n",
    "        (1,0,1):0.80,(0,0,1):0.20,(1,0,0):0.05,(0,0,0):0.95,\n",
    "    }\n",
    "}\n",
    "query_generic('Rain', {'WetGrass':1}, vars_topo, parents, cpts_generic)\n"
   ]
  },
  {
   "cell_type": "code",
   "execution_count": null,
   "id": "16b1f992",
   "metadata": {},
   "outputs": [],
   "source": []
  }
 ],
 "metadata": {
  "kernelspec": {
   "display_name": "Python 3",
   "language": "python",
   "name": "python3"
  },
  "language_info": {
   "codemirror_mode": {
    "name": "ipython",
    "version": 3
   },
   "file_extension": ".py",
   "mimetype": "text/x-python",
   "name": "python",
   "nbconvert_exporter": "python",
   "pygments_lexer": "ipython3",
   "version": "3.13.3"
  }
 },
 "nbformat": 4,
 "nbformat_minor": 5
}
